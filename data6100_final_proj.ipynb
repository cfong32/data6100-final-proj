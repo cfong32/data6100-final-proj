{
  "cells": [
    {
      "cell_type": "markdown",
      "metadata": {
        "id": "view-in-github",
        "colab_type": "text"
      },
      "source": [
        "<a href=\"https://colab.research.google.com/github/cfong32/data6100-final-proj/blob/master/data6100_final_proj.ipynb\" target=\"_parent\"><img src=\"https://colab.research.google.com/assets/colab-badge.svg\" alt=\"Open In Colab\"/></a>"
      ]
    },
    {
      "cell_type": "code",
      "source": [
        "!wget -q --show-progress -O new-york-city-taxi-fare-prediction.zip https://uoguelphca-my.sharepoint.com/:u:/g/personal/chungyan_uoguelph_ca/ESnzvg-NHEhPgoURZmVYv1MBUS3GVlHGGUTbnBRS10J3Eg?download=1\n",
        "!unzip new-york-city-taxi-fare-prediction.zip"
      ],
      "metadata": {
        "colab": {
          "base_uri": "https://localhost:8080/"
        },
        "id": "HXJKQ3dLYu3F",
        "outputId": "ce018e9f-7a52-4d62-d519-fadd456cec31"
      },
      "id": "HXJKQ3dLYu3F",
      "execution_count": 10,
      "outputs": [
        {
          "output_type": "stream",
          "name": "stdout",
          "text": [
            "new-york-city-taxi- 100%[===================>]   1.56G  77.5MB/s    in 23s     \n",
            "Archive:  new-york-city-taxi-fare-prediction.zip\n",
            "replace GCP-Coupons-Instructions.rtf? [y]es, [n]o, [A]ll, [N]one, [r]ename: "
          ]
        }
      ]
    },
    {
      "cell_type": "code",
      "execution_count": 11,
      "id": "afad4bda-224f-41b0-ad54-698a44ce4238",
      "metadata": {
        "id": "afad4bda-224f-41b0-ad54-698a44ce4238"
      },
      "outputs": [],
      "source": [
        "import pandas as pd\n",
        "import numpy as np\n",
        "import matplotlib.pyplot as plt\n",
        "import seaborn as sns\n",
        "pd.set_option('display.min_rows', 4)"
      ]
    },
    {
      "cell_type": "markdown",
      "source": [
        "# Read data (train + test)"
      ],
      "metadata": {
        "id": "cuX95UwsvPDk"
      },
      "id": "cuX95UwsvPDk"
    },
    {
      "cell_type": "code",
      "source": [
        "# Helper function to calculate distance\n",
        "\n",
        "def compute_dist(df):\n",
        "    # source: https://stackoverflow.com/questions/19412462/getting-distance-between-two-points-based-on-latitude-longitude\n",
        "    lat1 = df.pickup_latitude.map(np.deg2rad).values\n",
        "    lon1 = df.pickup_longitude.map(np.deg2rad).values\n",
        "    lat2 = df.dropoff_latitude.map(np.deg2rad).values\n",
        "    lon2 = df.dropoff_longitude.map(np.deg2rad).values\n",
        "\n",
        "    dlon = lon2 - lon1\n",
        "    dlat = lat2 - lat1\n",
        "\n",
        "    a = np.sin(dlat / 2)**2 + np.cos(lat1) * np.cos(lat2) * np.sin(dlon / 2)**2\n",
        "    c = 2 * np.arctan2(np.sqrt(a), np.sqrt(1 - a))\n",
        "    R = 6373.0\n",
        "    dist = R * c\n",
        "    return dist"
      ],
      "metadata": {
        "id": "YzoYFsZubXaU"
      },
      "id": "YzoYFsZubXaU",
      "execution_count": 15,
      "outputs": []
    },
    {
      "cell_type": "code",
      "source": [
        "# Read dataset (train + test)\n",
        "\n",
        "df = (\n",
        "    pd.concat([\n",
        "        (pd.read_csv('train.csv', nrows=100_000)    # read nrows ONLY, the whole set contains >55M rows\n",
        "         .assign(dataset='train')),\n",
        "        (pd.read_csv('test.csv')\n",
        "         .assign(dataset='test')),\n",
        "    ])\n",
        "    .assign(\n",
        "        pickup_datetime=lambda x: pd.to_datetime(x.pickup_datetime),\n",
        "        year   =lambda x: x.pickup_datetime.dt.year,\n",
        "        month  =lambda x: x.pickup_datetime.dt.month,\n",
        "        day    =lambda x: x.pickup_datetime.dt.day,\n",
        "        weekday=lambda x: x.pickup_datetime.dt.weekday,\n",
        "        hour   =lambda x: x.pickup_datetime.dt.hour,\n",
        "        minute =lambda x: x.pickup_datetime.dt.minute,\n",
        "        dist   =lambda x: compute_dist(x),\n",
        "     )\n",
        ")\n",
        "trainset = df.dataset == 'train'\n",
        "testset  = df.dataset == 'test'\n",
        "\n",
        "print(f'train: {trainset.sum()}, test: {testset.sum()}')\n",
        "display(df)"
      ],
      "metadata": {
        "colab": {
          "base_uri": "https://localhost:8080/",
          "height": 254
        },
        "id": "jZn-5RW4Z5Kb",
        "outputId": "533c4f3e-4908-41bd-ca7b-036f102aef11"
      },
      "id": "jZn-5RW4Z5Kb",
      "execution_count": 20,
      "outputs": [
        {
          "output_type": "stream",
          "name": "stdout",
          "text": [
            "train: 100000, test: 9914\n"
          ]
        },
        {
          "output_type": "display_data",
          "data": {
            "text/plain": [
              "                              key  fare_amount           pickup_datetime  \\\n",
              "0     2009-06-15 17:26:21.0000001          4.5 2009-06-15 17:26:21+00:00   \n",
              "1     2010-01-05 16:52:16.0000002         16.9 2010-01-05 16:52:16+00:00   \n",
              "...                           ...          ...                       ...   \n",
              "9912  2015-01-31 01:05:19.0000005          NaN 2015-01-31 01:05:19+00:00   \n",
              "9913  2015-01-18 14:06:23.0000006          NaN 2015-01-18 14:06:23+00:00   \n",
              "\n",
              "      pickup_longitude  pickup_latitude  dropoff_longitude  dropoff_latitude  \\\n",
              "0           -73.844311        40.721319         -73.841610         40.712278   \n",
              "1           -74.016048        40.711303         -73.979268         40.782004   \n",
              "...                ...              ...                ...               ...   \n",
              "9912        -73.985573        40.735432         -73.939178         40.801731   \n",
              "9913        -73.988022        40.754070         -74.000282         40.759220   \n",
              "\n",
              "      passenger_count dataset  year  month  day  weekday  hour  minute  \\\n",
              "0                   1   train  2009      6   15        0    17      26   \n",
              "1                   1   train  2010      1    5        1    16      52   \n",
              "...               ...     ...   ...    ...  ...      ...   ...     ...   \n",
              "9912                6    test  2015      1   31        5     1       5   \n",
              "9913                6    test  2015      1   18        6    14       6   \n",
              "\n",
              "          dist  \n",
              "0     1.031088  \n",
              "1     8.452786  \n",
              "...        ...  \n",
              "9912  8.346106  \n",
              "9913  1.181196  \n",
              "\n",
              "[109914 rows x 16 columns]"
            ],
            "text/html": [
              "\n",
              "  <div id=\"df-a0e1b2d3-337f-416e-99e9-a26899f45d16\">\n",
              "    <div class=\"colab-df-container\">\n",
              "      <div>\n",
              "<style scoped>\n",
              "    .dataframe tbody tr th:only-of-type {\n",
              "        vertical-align: middle;\n",
              "    }\n",
              "\n",
              "    .dataframe tbody tr th {\n",
              "        vertical-align: top;\n",
              "    }\n",
              "\n",
              "    .dataframe thead th {\n",
              "        text-align: right;\n",
              "    }\n",
              "</style>\n",
              "<table border=\"1\" class=\"dataframe\">\n",
              "  <thead>\n",
              "    <tr style=\"text-align: right;\">\n",
              "      <th></th>\n",
              "      <th>key</th>\n",
              "      <th>fare_amount</th>\n",
              "      <th>pickup_datetime</th>\n",
              "      <th>pickup_longitude</th>\n",
              "      <th>pickup_latitude</th>\n",
              "      <th>dropoff_longitude</th>\n",
              "      <th>dropoff_latitude</th>\n",
              "      <th>passenger_count</th>\n",
              "      <th>dataset</th>\n",
              "      <th>year</th>\n",
              "      <th>month</th>\n",
              "      <th>day</th>\n",
              "      <th>weekday</th>\n",
              "      <th>hour</th>\n",
              "      <th>minute</th>\n",
              "      <th>dist</th>\n",
              "    </tr>\n",
              "  </thead>\n",
              "  <tbody>\n",
              "    <tr>\n",
              "      <th>0</th>\n",
              "      <td>2009-06-15 17:26:21.0000001</td>\n",
              "      <td>4.5</td>\n",
              "      <td>2009-06-15 17:26:21+00:00</td>\n",
              "      <td>-73.844311</td>\n",
              "      <td>40.721319</td>\n",
              "      <td>-73.841610</td>\n",
              "      <td>40.712278</td>\n",
              "      <td>1</td>\n",
              "      <td>train</td>\n",
              "      <td>2009</td>\n",
              "      <td>6</td>\n",
              "      <td>15</td>\n",
              "      <td>0</td>\n",
              "      <td>17</td>\n",
              "      <td>26</td>\n",
              "      <td>1.031088</td>\n",
              "    </tr>\n",
              "    <tr>\n",
              "      <th>1</th>\n",
              "      <td>2010-01-05 16:52:16.0000002</td>\n",
              "      <td>16.9</td>\n",
              "      <td>2010-01-05 16:52:16+00:00</td>\n",
              "      <td>-74.016048</td>\n",
              "      <td>40.711303</td>\n",
              "      <td>-73.979268</td>\n",
              "      <td>40.782004</td>\n",
              "      <td>1</td>\n",
              "      <td>train</td>\n",
              "      <td>2010</td>\n",
              "      <td>1</td>\n",
              "      <td>5</td>\n",
              "      <td>1</td>\n",
              "      <td>16</td>\n",
              "      <td>52</td>\n",
              "      <td>8.452786</td>\n",
              "    </tr>\n",
              "    <tr>\n",
              "      <th>...</th>\n",
              "      <td>...</td>\n",
              "      <td>...</td>\n",
              "      <td>...</td>\n",
              "      <td>...</td>\n",
              "      <td>...</td>\n",
              "      <td>...</td>\n",
              "      <td>...</td>\n",
              "      <td>...</td>\n",
              "      <td>...</td>\n",
              "      <td>...</td>\n",
              "      <td>...</td>\n",
              "      <td>...</td>\n",
              "      <td>...</td>\n",
              "      <td>...</td>\n",
              "      <td>...</td>\n",
              "      <td>...</td>\n",
              "    </tr>\n",
              "    <tr>\n",
              "      <th>9912</th>\n",
              "      <td>2015-01-31 01:05:19.0000005</td>\n",
              "      <td>NaN</td>\n",
              "      <td>2015-01-31 01:05:19+00:00</td>\n",
              "      <td>-73.985573</td>\n",
              "      <td>40.735432</td>\n",
              "      <td>-73.939178</td>\n",
              "      <td>40.801731</td>\n",
              "      <td>6</td>\n",
              "      <td>test</td>\n",
              "      <td>2015</td>\n",
              "      <td>1</td>\n",
              "      <td>31</td>\n",
              "      <td>5</td>\n",
              "      <td>1</td>\n",
              "      <td>5</td>\n",
              "      <td>8.346106</td>\n",
              "    </tr>\n",
              "    <tr>\n",
              "      <th>9913</th>\n",
              "      <td>2015-01-18 14:06:23.0000006</td>\n",
              "      <td>NaN</td>\n",
              "      <td>2015-01-18 14:06:23+00:00</td>\n",
              "      <td>-73.988022</td>\n",
              "      <td>40.754070</td>\n",
              "      <td>-74.000282</td>\n",
              "      <td>40.759220</td>\n",
              "      <td>6</td>\n",
              "      <td>test</td>\n",
              "      <td>2015</td>\n",
              "      <td>1</td>\n",
              "      <td>18</td>\n",
              "      <td>6</td>\n",
              "      <td>14</td>\n",
              "      <td>6</td>\n",
              "      <td>1.181196</td>\n",
              "    </tr>\n",
              "  </tbody>\n",
              "</table>\n",
              "<p>109914 rows × 16 columns</p>\n",
              "</div>\n",
              "      <button class=\"colab-df-convert\" onclick=\"convertToInteractive('df-a0e1b2d3-337f-416e-99e9-a26899f45d16')\"\n",
              "              title=\"Convert this dataframe to an interactive table.\"\n",
              "              style=\"display:none;\">\n",
              "        \n",
              "  <svg xmlns=\"http://www.w3.org/2000/svg\" height=\"24px\"viewBox=\"0 0 24 24\"\n",
              "       width=\"24px\">\n",
              "    <path d=\"M0 0h24v24H0V0z\" fill=\"none\"/>\n",
              "    <path d=\"M18.56 5.44l.94 2.06.94-2.06 2.06-.94-2.06-.94-.94-2.06-.94 2.06-2.06.94zm-11 1L8.5 8.5l.94-2.06 2.06-.94-2.06-.94L8.5 2.5l-.94 2.06-2.06.94zm10 10l.94 2.06.94-2.06 2.06-.94-2.06-.94-.94-2.06-.94 2.06-2.06.94z\"/><path d=\"M17.41 7.96l-1.37-1.37c-.4-.4-.92-.59-1.43-.59-.52 0-1.04.2-1.43.59L10.3 9.45l-7.72 7.72c-.78.78-.78 2.05 0 2.83L4 21.41c.39.39.9.59 1.41.59.51 0 1.02-.2 1.41-.59l7.78-7.78 2.81-2.81c.8-.78.8-2.07 0-2.86zM5.41 20L4 18.59l7.72-7.72 1.47 1.35L5.41 20z\"/>\n",
              "  </svg>\n",
              "      </button>\n",
              "      \n",
              "  <style>\n",
              "    .colab-df-container {\n",
              "      display:flex;\n",
              "      flex-wrap:wrap;\n",
              "      gap: 12px;\n",
              "    }\n",
              "\n",
              "    .colab-df-convert {\n",
              "      background-color: #E8F0FE;\n",
              "      border: none;\n",
              "      border-radius: 50%;\n",
              "      cursor: pointer;\n",
              "      display: none;\n",
              "      fill: #1967D2;\n",
              "      height: 32px;\n",
              "      padding: 0 0 0 0;\n",
              "      width: 32px;\n",
              "    }\n",
              "\n",
              "    .colab-df-convert:hover {\n",
              "      background-color: #E2EBFA;\n",
              "      box-shadow: 0px 1px 2px rgba(60, 64, 67, 0.3), 0px 1px 3px 1px rgba(60, 64, 67, 0.15);\n",
              "      fill: #174EA6;\n",
              "    }\n",
              "\n",
              "    [theme=dark] .colab-df-convert {\n",
              "      background-color: #3B4455;\n",
              "      fill: #D2E3FC;\n",
              "    }\n",
              "\n",
              "    [theme=dark] .colab-df-convert:hover {\n",
              "      background-color: #434B5C;\n",
              "      box-shadow: 0px 1px 3px 1px rgba(0, 0, 0, 0.15);\n",
              "      filter: drop-shadow(0px 1px 2px rgba(0, 0, 0, 0.3));\n",
              "      fill: #FFFFFF;\n",
              "    }\n",
              "  </style>\n",
              "\n",
              "      <script>\n",
              "        const buttonEl =\n",
              "          document.querySelector('#df-a0e1b2d3-337f-416e-99e9-a26899f45d16 button.colab-df-convert');\n",
              "        buttonEl.style.display =\n",
              "          google.colab.kernel.accessAllowed ? 'block' : 'none';\n",
              "\n",
              "        async function convertToInteractive(key) {\n",
              "          const element = document.querySelector('#df-a0e1b2d3-337f-416e-99e9-a26899f45d16');\n",
              "          const dataTable =\n",
              "            await google.colab.kernel.invokeFunction('convertToInteractive',\n",
              "                                                     [key], {});\n",
              "          if (!dataTable) return;\n",
              "\n",
              "          const docLinkHtml = 'Like what you see? Visit the ' +\n",
              "            '<a target=\"_blank\" href=https://colab.research.google.com/notebooks/data_table.ipynb>data table notebook</a>'\n",
              "            + ' to learn more about interactive tables.';\n",
              "          element.innerHTML = '';\n",
              "          dataTable['output_type'] = 'display_data';\n",
              "          await google.colab.output.renderOutput(dataTable, element);\n",
              "          const docLink = document.createElement('div');\n",
              "          docLink.innerHTML = docLinkHtml;\n",
              "          element.appendChild(docLink);\n",
              "        }\n",
              "      </script>\n",
              "    </div>\n",
              "  </div>\n",
              "  "
            ]
          },
          "metadata": {}
        }
      ]
    },
    {
      "cell_type": "code",
      "source": [
        "# Simple description of train and test data\n",
        "\n",
        "df.groupby('dataset').describe().stack()"
      ],
      "metadata": {
        "id": "j3JszXciuTZI",
        "outputId": "4df53be4-feb2-4523-a166-115346e4303c",
        "colab": {
          "base_uri": "https://localhost:8080/",
          "height": 582
        }
      },
      "id": "j3JszXciuTZI",
      "execution_count": 21,
      "outputs": [
        {
          "output_type": "execute_result",
          "data": {
            "text/plain": [
              "                 fare_amount  pickup_longitude  pickup_latitude  \\\n",
              "dataset                                                           \n",
              "test    count       0.000000       9914.000000      9914.000000   \n",
              "        mean             NaN        -73.974722        40.751041   \n",
              "        std              NaN          0.042774         0.033541   \n",
              "        min              NaN        -74.252193        40.573143   \n",
              "        25%              NaN        -73.992501        40.736125   \n",
              "        50%              NaN        -73.982326        40.753051   \n",
              "        75%              NaN        -73.968013        40.767113   \n",
              "        max              NaN        -72.986532        41.709555   \n",
              "train   count  100000.000000     100000.000000    100000.000000   \n",
              "        mean       11.354652        -72.494682        39.914481   \n",
              "        std         9.716777         10.693934         6.225686   \n",
              "        min       -44.900000       -736.550000       -74.007670   \n",
              "        25%         6.000000        -73.992041        40.734996   \n",
              "        50%         8.500000        -73.981789        40.752765   \n",
              "        75%        12.500000        -73.966982        40.767258   \n",
              "        max       200.000000         40.787575       401.083332   \n",
              "\n",
              "               dropoff_longitude  dropoff_latitude  passenger_count  \\\n",
              "dataset                                                               \n",
              "test    count        9914.000000       9914.000000      9914.000000   \n",
              "        mean          -73.973657         40.751743         1.671273   \n",
              "        std             0.039072          0.035435         1.278747   \n",
              "        min           -74.263242         40.568973         1.000000   \n",
              "        25%           -73.991247         40.735254         1.000000   \n",
              "        50%           -73.980015         40.754065         1.000000   \n",
              "        75%           -73.964059         40.768757         2.000000   \n",
              "        max           -72.990963         41.696683         6.000000   \n",
              "train   count      100000.000000     100000.000000    100000.000000   \n",
              "        mean          -72.490967         39.919053         1.673820   \n",
              "        std            10.471386          6.213427         1.300171   \n",
              "        min           -84.654241        -74.006377         0.000000   \n",
              "        25%           -73.991215         40.734182         1.000000   \n",
              "        50%           -73.980000         40.753243         1.000000   \n",
              "        75%           -73.963433         40.768166         2.000000   \n",
              "        max            40.851027        404.616667         6.000000   \n",
              "\n",
              "                        year          month            day        weekday  \\\n",
              "dataset                                                                     \n",
              "test    count    9914.000000    9914.000000    9914.000000    9914.000000   \n",
              "        mean     2011.815816       6.857979      16.194170       2.852834   \n",
              "        std         1.803347       3.353272       8.838482       1.994451   \n",
              "        min      2009.000000       1.000000       1.000000       0.000000   \n",
              "        25%      2010.000000       4.000000       9.000000       1.000000   \n",
              "        50%      2012.000000       7.000000      16.000000       3.000000   \n",
              "        75%      2014.000000      10.000000      25.000000       5.000000   \n",
              "        max      2015.000000      12.000000      31.000000       6.000000   \n",
              "train   count  100000.000000  100000.000000  100000.000000  100000.000000   \n",
              "        mean     2011.743890       6.261230      15.664270       3.036180   \n",
              "        std         1.866020       3.450569       8.677631       1.949484   \n",
              "        min      2009.000000       1.000000       1.000000       0.000000   \n",
              "        25%      2010.000000       3.000000       8.000000       1.000000   \n",
              "        50%      2012.000000       6.000000      16.000000       3.000000   \n",
              "        75%      2013.000000       9.000000      23.000000       5.000000   \n",
              "        max      2015.000000      12.000000      31.000000       6.000000   \n",
              "\n",
              "                        hour         minute           dist  \n",
              "dataset                                                     \n",
              "test    count    9914.000000    9914.000000    9914.000000  \n",
              "        mean       13.467420      29.548416       3.436449  \n",
              "        std         6.868584      18.674818       3.973621  \n",
              "        min         0.000000       0.000000       0.000000  \n",
              "        25%         8.000000      13.000000       1.298684  \n",
              "        50%        15.000000      33.000000       2.218108  \n",
              "        75%        19.000000      45.000000       4.046572  \n",
              "        max        23.000000      59.000000     100.027431  \n",
              "train   count  100000.000000  100000.000000  100000.000000  \n",
              "        mean       13.495110      29.611200      18.598052  \n",
              "        std         6.507434      17.301030     356.873892  \n",
              "        min         0.000000       0.000000       0.000000  \n",
              "        25%         9.000000      15.000000       1.214813  \n",
              "        50%        14.000000      30.000000       2.119975  \n",
              "        75%        19.000000      45.000000       3.889044  \n",
              "        max        23.000000      59.000000    8677.344988  "
            ],
            "text/html": [
              "\n",
              "  <div id=\"df-6c1c09c7-e2b6-4cf6-90bb-f501cdb4bc64\">\n",
              "    <div class=\"colab-df-container\">\n",
              "      <div>\n",
              "<style scoped>\n",
              "    .dataframe tbody tr th:only-of-type {\n",
              "        vertical-align: middle;\n",
              "    }\n",
              "\n",
              "    .dataframe tbody tr th {\n",
              "        vertical-align: top;\n",
              "    }\n",
              "\n",
              "    .dataframe thead th {\n",
              "        text-align: right;\n",
              "    }\n",
              "</style>\n",
              "<table border=\"1\" class=\"dataframe\">\n",
              "  <thead>\n",
              "    <tr style=\"text-align: right;\">\n",
              "      <th></th>\n",
              "      <th></th>\n",
              "      <th>fare_amount</th>\n",
              "      <th>pickup_longitude</th>\n",
              "      <th>pickup_latitude</th>\n",
              "      <th>dropoff_longitude</th>\n",
              "      <th>dropoff_latitude</th>\n",
              "      <th>passenger_count</th>\n",
              "      <th>year</th>\n",
              "      <th>month</th>\n",
              "      <th>day</th>\n",
              "      <th>weekday</th>\n",
              "      <th>hour</th>\n",
              "      <th>minute</th>\n",
              "      <th>dist</th>\n",
              "    </tr>\n",
              "    <tr>\n",
              "      <th>dataset</th>\n",
              "      <th></th>\n",
              "      <th></th>\n",
              "      <th></th>\n",
              "      <th></th>\n",
              "      <th></th>\n",
              "      <th></th>\n",
              "      <th></th>\n",
              "      <th></th>\n",
              "      <th></th>\n",
              "      <th></th>\n",
              "      <th></th>\n",
              "      <th></th>\n",
              "      <th></th>\n",
              "      <th></th>\n",
              "    </tr>\n",
              "  </thead>\n",
              "  <tbody>\n",
              "    <tr>\n",
              "      <th rowspan=\"8\" valign=\"top\">test</th>\n",
              "      <th>count</th>\n",
              "      <td>0.000000</td>\n",
              "      <td>9914.000000</td>\n",
              "      <td>9914.000000</td>\n",
              "      <td>9914.000000</td>\n",
              "      <td>9914.000000</td>\n",
              "      <td>9914.000000</td>\n",
              "      <td>9914.000000</td>\n",
              "      <td>9914.000000</td>\n",
              "      <td>9914.000000</td>\n",
              "      <td>9914.000000</td>\n",
              "      <td>9914.000000</td>\n",
              "      <td>9914.000000</td>\n",
              "      <td>9914.000000</td>\n",
              "    </tr>\n",
              "    <tr>\n",
              "      <th>mean</th>\n",
              "      <td>NaN</td>\n",
              "      <td>-73.974722</td>\n",
              "      <td>40.751041</td>\n",
              "      <td>-73.973657</td>\n",
              "      <td>40.751743</td>\n",
              "      <td>1.671273</td>\n",
              "      <td>2011.815816</td>\n",
              "      <td>6.857979</td>\n",
              "      <td>16.194170</td>\n",
              "      <td>2.852834</td>\n",
              "      <td>13.467420</td>\n",
              "      <td>29.548416</td>\n",
              "      <td>3.436449</td>\n",
              "    </tr>\n",
              "    <tr>\n",
              "      <th>std</th>\n",
              "      <td>NaN</td>\n",
              "      <td>0.042774</td>\n",
              "      <td>0.033541</td>\n",
              "      <td>0.039072</td>\n",
              "      <td>0.035435</td>\n",
              "      <td>1.278747</td>\n",
              "      <td>1.803347</td>\n",
              "      <td>3.353272</td>\n",
              "      <td>8.838482</td>\n",
              "      <td>1.994451</td>\n",
              "      <td>6.868584</td>\n",
              "      <td>18.674818</td>\n",
              "      <td>3.973621</td>\n",
              "    </tr>\n",
              "    <tr>\n",
              "      <th>min</th>\n",
              "      <td>NaN</td>\n",
              "      <td>-74.252193</td>\n",
              "      <td>40.573143</td>\n",
              "      <td>-74.263242</td>\n",
              "      <td>40.568973</td>\n",
              "      <td>1.000000</td>\n",
              "      <td>2009.000000</td>\n",
              "      <td>1.000000</td>\n",
              "      <td>1.000000</td>\n",
              "      <td>0.000000</td>\n",
              "      <td>0.000000</td>\n",
              "      <td>0.000000</td>\n",
              "      <td>0.000000</td>\n",
              "    </tr>\n",
              "    <tr>\n",
              "      <th>25%</th>\n",
              "      <td>NaN</td>\n",
              "      <td>-73.992501</td>\n",
              "      <td>40.736125</td>\n",
              "      <td>-73.991247</td>\n",
              "      <td>40.735254</td>\n",
              "      <td>1.000000</td>\n",
              "      <td>2010.000000</td>\n",
              "      <td>4.000000</td>\n",
              "      <td>9.000000</td>\n",
              "      <td>1.000000</td>\n",
              "      <td>8.000000</td>\n",
              "      <td>13.000000</td>\n",
              "      <td>1.298684</td>\n",
              "    </tr>\n",
              "    <tr>\n",
              "      <th>50%</th>\n",
              "      <td>NaN</td>\n",
              "      <td>-73.982326</td>\n",
              "      <td>40.753051</td>\n",
              "      <td>-73.980015</td>\n",
              "      <td>40.754065</td>\n",
              "      <td>1.000000</td>\n",
              "      <td>2012.000000</td>\n",
              "      <td>7.000000</td>\n",
              "      <td>16.000000</td>\n",
              "      <td>3.000000</td>\n",
              "      <td>15.000000</td>\n",
              "      <td>33.000000</td>\n",
              "      <td>2.218108</td>\n",
              "    </tr>\n",
              "    <tr>\n",
              "      <th>75%</th>\n",
              "      <td>NaN</td>\n",
              "      <td>-73.968013</td>\n",
              "      <td>40.767113</td>\n",
              "      <td>-73.964059</td>\n",
              "      <td>40.768757</td>\n",
              "      <td>2.000000</td>\n",
              "      <td>2014.000000</td>\n",
              "      <td>10.000000</td>\n",
              "      <td>25.000000</td>\n",
              "      <td>5.000000</td>\n",
              "      <td>19.000000</td>\n",
              "      <td>45.000000</td>\n",
              "      <td>4.046572</td>\n",
              "    </tr>\n",
              "    <tr>\n",
              "      <th>max</th>\n",
              "      <td>NaN</td>\n",
              "      <td>-72.986532</td>\n",
              "      <td>41.709555</td>\n",
              "      <td>-72.990963</td>\n",
              "      <td>41.696683</td>\n",
              "      <td>6.000000</td>\n",
              "      <td>2015.000000</td>\n",
              "      <td>12.000000</td>\n",
              "      <td>31.000000</td>\n",
              "      <td>6.000000</td>\n",
              "      <td>23.000000</td>\n",
              "      <td>59.000000</td>\n",
              "      <td>100.027431</td>\n",
              "    </tr>\n",
              "    <tr>\n",
              "      <th rowspan=\"8\" valign=\"top\">train</th>\n",
              "      <th>count</th>\n",
              "      <td>100000.000000</td>\n",
              "      <td>100000.000000</td>\n",
              "      <td>100000.000000</td>\n",
              "      <td>100000.000000</td>\n",
              "      <td>100000.000000</td>\n",
              "      <td>100000.000000</td>\n",
              "      <td>100000.000000</td>\n",
              "      <td>100000.000000</td>\n",
              "      <td>100000.000000</td>\n",
              "      <td>100000.000000</td>\n",
              "      <td>100000.000000</td>\n",
              "      <td>100000.000000</td>\n",
              "      <td>100000.000000</td>\n",
              "    </tr>\n",
              "    <tr>\n",
              "      <th>mean</th>\n",
              "      <td>11.354652</td>\n",
              "      <td>-72.494682</td>\n",
              "      <td>39.914481</td>\n",
              "      <td>-72.490967</td>\n",
              "      <td>39.919053</td>\n",
              "      <td>1.673820</td>\n",
              "      <td>2011.743890</td>\n",
              "      <td>6.261230</td>\n",
              "      <td>15.664270</td>\n",
              "      <td>3.036180</td>\n",
              "      <td>13.495110</td>\n",
              "      <td>29.611200</td>\n",
              "      <td>18.598052</td>\n",
              "    </tr>\n",
              "    <tr>\n",
              "      <th>std</th>\n",
              "      <td>9.716777</td>\n",
              "      <td>10.693934</td>\n",
              "      <td>6.225686</td>\n",
              "      <td>10.471386</td>\n",
              "      <td>6.213427</td>\n",
              "      <td>1.300171</td>\n",
              "      <td>1.866020</td>\n",
              "      <td>3.450569</td>\n",
              "      <td>8.677631</td>\n",
              "      <td>1.949484</td>\n",
              "      <td>6.507434</td>\n",
              "      <td>17.301030</td>\n",
              "      <td>356.873892</td>\n",
              "    </tr>\n",
              "    <tr>\n",
              "      <th>min</th>\n",
              "      <td>-44.900000</td>\n",
              "      <td>-736.550000</td>\n",
              "      <td>-74.007670</td>\n",
              "      <td>-84.654241</td>\n",
              "      <td>-74.006377</td>\n",
              "      <td>0.000000</td>\n",
              "      <td>2009.000000</td>\n",
              "      <td>1.000000</td>\n",
              "      <td>1.000000</td>\n",
              "      <td>0.000000</td>\n",
              "      <td>0.000000</td>\n",
              "      <td>0.000000</td>\n",
              "      <td>0.000000</td>\n",
              "    </tr>\n",
              "    <tr>\n",
              "      <th>25%</th>\n",
              "      <td>6.000000</td>\n",
              "      <td>-73.992041</td>\n",
              "      <td>40.734996</td>\n",
              "      <td>-73.991215</td>\n",
              "      <td>40.734182</td>\n",
              "      <td>1.000000</td>\n",
              "      <td>2010.000000</td>\n",
              "      <td>3.000000</td>\n",
              "      <td>8.000000</td>\n",
              "      <td>1.000000</td>\n",
              "      <td>9.000000</td>\n",
              "      <td>15.000000</td>\n",
              "      <td>1.214813</td>\n",
              "    </tr>\n",
              "    <tr>\n",
              "      <th>50%</th>\n",
              "      <td>8.500000</td>\n",
              "      <td>-73.981789</td>\n",
              "      <td>40.752765</td>\n",
              "      <td>-73.980000</td>\n",
              "      <td>40.753243</td>\n",
              "      <td>1.000000</td>\n",
              "      <td>2012.000000</td>\n",
              "      <td>6.000000</td>\n",
              "      <td>16.000000</td>\n",
              "      <td>3.000000</td>\n",
              "      <td>14.000000</td>\n",
              "      <td>30.000000</td>\n",
              "      <td>2.119975</td>\n",
              "    </tr>\n",
              "    <tr>\n",
              "      <th>75%</th>\n",
              "      <td>12.500000</td>\n",
              "      <td>-73.966982</td>\n",
              "      <td>40.767258</td>\n",
              "      <td>-73.963433</td>\n",
              "      <td>40.768166</td>\n",
              "      <td>2.000000</td>\n",
              "      <td>2013.000000</td>\n",
              "      <td>9.000000</td>\n",
              "      <td>23.000000</td>\n",
              "      <td>5.000000</td>\n",
              "      <td>19.000000</td>\n",
              "      <td>45.000000</td>\n",
              "      <td>3.889044</td>\n",
              "    </tr>\n",
              "    <tr>\n",
              "      <th>max</th>\n",
              "      <td>200.000000</td>\n",
              "      <td>40.787575</td>\n",
              "      <td>401.083332</td>\n",
              "      <td>40.851027</td>\n",
              "      <td>404.616667</td>\n",
              "      <td>6.000000</td>\n",
              "      <td>2015.000000</td>\n",
              "      <td>12.000000</td>\n",
              "      <td>31.000000</td>\n",
              "      <td>6.000000</td>\n",
              "      <td>23.000000</td>\n",
              "      <td>59.000000</td>\n",
              "      <td>8677.344988</td>\n",
              "    </tr>\n",
              "  </tbody>\n",
              "</table>\n",
              "</div>\n",
              "      <button class=\"colab-df-convert\" onclick=\"convertToInteractive('df-6c1c09c7-e2b6-4cf6-90bb-f501cdb4bc64')\"\n",
              "              title=\"Convert this dataframe to an interactive table.\"\n",
              "              style=\"display:none;\">\n",
              "        \n",
              "  <svg xmlns=\"http://www.w3.org/2000/svg\" height=\"24px\"viewBox=\"0 0 24 24\"\n",
              "       width=\"24px\">\n",
              "    <path d=\"M0 0h24v24H0V0z\" fill=\"none\"/>\n",
              "    <path d=\"M18.56 5.44l.94 2.06.94-2.06 2.06-.94-2.06-.94-.94-2.06-.94 2.06-2.06.94zm-11 1L8.5 8.5l.94-2.06 2.06-.94-2.06-.94L8.5 2.5l-.94 2.06-2.06.94zm10 10l.94 2.06.94-2.06 2.06-.94-2.06-.94-.94-2.06-.94 2.06-2.06.94z\"/><path d=\"M17.41 7.96l-1.37-1.37c-.4-.4-.92-.59-1.43-.59-.52 0-1.04.2-1.43.59L10.3 9.45l-7.72 7.72c-.78.78-.78 2.05 0 2.83L4 21.41c.39.39.9.59 1.41.59.51 0 1.02-.2 1.41-.59l7.78-7.78 2.81-2.81c.8-.78.8-2.07 0-2.86zM5.41 20L4 18.59l7.72-7.72 1.47 1.35L5.41 20z\"/>\n",
              "  </svg>\n",
              "      </button>\n",
              "      \n",
              "  <style>\n",
              "    .colab-df-container {\n",
              "      display:flex;\n",
              "      flex-wrap:wrap;\n",
              "      gap: 12px;\n",
              "    }\n",
              "\n",
              "    .colab-df-convert {\n",
              "      background-color: #E8F0FE;\n",
              "      border: none;\n",
              "      border-radius: 50%;\n",
              "      cursor: pointer;\n",
              "      display: none;\n",
              "      fill: #1967D2;\n",
              "      height: 32px;\n",
              "      padding: 0 0 0 0;\n",
              "      width: 32px;\n",
              "    }\n",
              "\n",
              "    .colab-df-convert:hover {\n",
              "      background-color: #E2EBFA;\n",
              "      box-shadow: 0px 1px 2px rgba(60, 64, 67, 0.3), 0px 1px 3px 1px rgba(60, 64, 67, 0.15);\n",
              "      fill: #174EA6;\n",
              "    }\n",
              "\n",
              "    [theme=dark] .colab-df-convert {\n",
              "      background-color: #3B4455;\n",
              "      fill: #D2E3FC;\n",
              "    }\n",
              "\n",
              "    [theme=dark] .colab-df-convert:hover {\n",
              "      background-color: #434B5C;\n",
              "      box-shadow: 0px 1px 3px 1px rgba(0, 0, 0, 0.15);\n",
              "      filter: drop-shadow(0px 1px 2px rgba(0, 0, 0, 0.3));\n",
              "      fill: #FFFFFF;\n",
              "    }\n",
              "  </style>\n",
              "\n",
              "      <script>\n",
              "        const buttonEl =\n",
              "          document.querySelector('#df-6c1c09c7-e2b6-4cf6-90bb-f501cdb4bc64 button.colab-df-convert');\n",
              "        buttonEl.style.display =\n",
              "          google.colab.kernel.accessAllowed ? 'block' : 'none';\n",
              "\n",
              "        async function convertToInteractive(key) {\n",
              "          const element = document.querySelector('#df-6c1c09c7-e2b6-4cf6-90bb-f501cdb4bc64');\n",
              "          const dataTable =\n",
              "            await google.colab.kernel.invokeFunction('convertToInteractive',\n",
              "                                                     [key], {});\n",
              "          if (!dataTable) return;\n",
              "\n",
              "          const docLinkHtml = 'Like what you see? Visit the ' +\n",
              "            '<a target=\"_blank\" href=https://colab.research.google.com/notebooks/data_table.ipynb>data table notebook</a>'\n",
              "            + ' to learn more about interactive tables.';\n",
              "          element.innerHTML = '';\n",
              "          dataTable['output_type'] = 'display_data';\n",
              "          await google.colab.output.renderOutput(dataTable, element);\n",
              "          const docLink = document.createElement('div');\n",
              "          docLink.innerHTML = docLinkHtml;\n",
              "          element.appendChild(docLink);\n",
              "        }\n",
              "      </script>\n",
              "    </div>\n",
              "  </div>\n",
              "  "
            ]
          },
          "metadata": {},
          "execution_count": 21
        }
      ]
    },
    {
      "cell_type": "markdown",
      "source": [
        "<font color=\"#FF0000\">Note that some training data is **out of range** -- outside the range of test data.<font/>"
      ],
      "metadata": {
        "id": "B1CK7wrK-Jes"
      },
      "id": "B1CK7wrK-Jes"
    },
    {
      "cell_type": "markdown",
      "source": [
        "# Preprocess data\n",
        "- Select some input features\n",
        "- Remove irrelevant data from training set\n",
        "    - **Keep training data which is within the range of test data**"
      ],
      "metadata": {
        "id": "ZtLkwLSkvYDT"
      },
      "id": "ZtLkwLSkvYDT"
    },
    {
      "cell_type": "code",
      "source": [
        "# Input and output variables\n",
        "cols_X = [\n",
        "    'pickup_longitude',\n",
        "    'pickup_latitude',\n",
        "    'dropoff_longitude',\n",
        "    'dropoff_latitude',\n",
        "    'passenger_count',\n",
        "    'year',\n",
        "    'month',\n",
        "    'day',\n",
        "    'weekday',\n",
        "    'hour',\n",
        "    'minute',\n",
        "    'dist',\n",
        "]\n",
        "col_y = 'fare_amount'\n",
        "\n",
        "# Determine\n",
        "# which record is out-of-range -- to drop\n",
        "# which record is within-range -- to keep\n",
        "\n",
        "testset_max = df[testset][cols_X].max()    # max values in test set\n",
        "testset_min = df[testset][cols_X].min()    # min values in test set\n",
        "\n",
        "trainset_to_drop = (trainset\n",
        "                    &\n",
        "                    ((df[cols_X] > testset_max).any(axis=1)     # > max\n",
        "                     |\n",
        "                     (df[cols_X] < testset_min).any(axis=1))    # or < min\n",
        "                   )\n",
        "trainset_to_keep = trainset & ~trainset_to_drop\n",
        "\n",
        "print(f'train: {trainset.sum()}, test: {testset.sum()}')\n",
        "print('train to drop:', trainset_to_drop.sum(), 'train to keep:', trainset_to_keep.sum())"
      ],
      "metadata": {
        "colab": {
          "base_uri": "https://localhost:8080/"
        },
        "id": "3wImyamxlVIg",
        "outputId": "5036deae-f7e6-4946-852e-103239d61d0d"
      },
      "id": "3wImyamxlVIg",
      "execution_count": 22,
      "outputs": [
        {
          "output_type": "stream",
          "name": "stdout",
          "text": [
            "train: 100000, test: 9914\n",
            "train to drop: 2517 train to keep: 97483\n"
          ]
        }
      ]
    },
    {
      "cell_type": "code",
      "source": [
        "# Make sure there is no NA\n",
        "assert df[trainset_to_keep][cols_X].notna().all().all()\n",
        "assert df[trainset_to_keep][col_y].notna().all().all()\n",
        "\n",
        "# Standardize X and y  (X_train and y_train)\n",
        "sr_mean_X, sr_std_X = df[cols_X].mean(), df[cols_X].std()\n",
        "X_train = ((df[trainset_to_keep][cols_X] - sr_mean_X) / sr_std_X).values\n",
        "y_train = df[trainset_to_keep][col_y].values\n",
        "\n",
        "X_train.shape, y_train.shape"
      ],
      "metadata": {
        "colab": {
          "base_uri": "https://localhost:8080/"
        },
        "id": "F0kO4h09mR6J",
        "outputId": "41e1c483-7533-4c6b-fb67-1c3821373841"
      },
      "id": "F0kO4h09mR6J",
      "execution_count": 23,
      "outputs": [
        {
          "output_type": "execute_result",
          "data": {
            "text/plain": [
              "((97483, 12), (97483,))"
            ]
          },
          "metadata": {},
          "execution_count": 23
        }
      ]
    },
    {
      "cell_type": "markdown",
      "source": [
        "# Train a *fare_amount ~ dist* linear model"
      ],
      "metadata": {
        "id": "C7SaVWBwctaV"
      },
      "id": "C7SaVWBwctaV"
    },
    {
      "cell_type": "code",
      "source": [
        "# Evaluate performnace using CV\n",
        "\n",
        "from sklearn.model_selection import cross_val_score\n",
        "from sklearn.linear_model import LinearRegression\n",
        "\n",
        "X_train_dist_only = X_train[:,[-1]]\n",
        "model = LinearRegression()\n",
        "scores = -cross_val_score(model,\n",
        "                          X_train_dist_only,\n",
        "                          y_train,\n",
        "                          cv=5,\n",
        "                          scoring='neg_root_mean_squared_error')\n",
        "\n",
        "print('5-fold cross-validation scores:', scores)\n",
        "print('Mean cross-validation score:', np.mean(scores))"
      ],
      "metadata": {
        "id": "aiqqmuYNcsnM",
        "outputId": "d8cb1b5c-17e0-470b-92d9-4022b3342bd5",
        "colab": {
          "base_uri": "https://localhost:8080/"
        }
      },
      "id": "aiqqmuYNcsnM",
      "execution_count": 28,
      "outputs": [
        {
          "output_type": "stream",
          "name": "stdout",
          "text": [
            "5-fold cross-validation scores: [6.07551534 5.28855513 6.08344327 5.26650932 5.28153184]\n",
            "Mean cross-validation score: 5.599110979519088\n"
          ]
        }
      ]
    },
    {
      "cell_type": "code",
      "source": [
        "# Fit a model to obtain learned parameters\n",
        "\n",
        "model.fit(X_train_dist_only, y_train)\n",
        "y_hat = model.predict(X_train_dist_only)\n",
        "y_residual = y_train - y_hat\n",
        "\n",
        "beta = model.coef_[0]\n",
        "offset = model.intercept_\n",
        "print(f'Model equation:')\n",
        "print(f'fare_amount = dist * {beta} + {offset}')"
      ],
      "metadata": {
        "id": "X5PjW_69enFT",
        "outputId": "a6ff19eb-3977-45a2-b998-740bf1062beb",
        "colab": {
          "base_uri": "https://localhost:8080/"
        }
      },
      "id": "X5PjW_69enFT",
      "execution_count": 68,
      "outputs": [
        {
          "output_type": "stream",
          "name": "stdout",
          "text": [
            "Model equation:\n",
            "fare_amount = dist * 713.73200109713 + 40.472861661930104\n"
          ]
        }
      ]
    },
    {
      "cell_type": "code",
      "source": [
        "# Visualize model performance\n",
        "\n",
        "plt.figure(figsize=(10,5))\n",
        "plt.scatter(X_train_dist_only, y_train, label='data', alpha=0.1, marker='.', color='C0')\n",
        "plt.plot(X_train_dist_only, y_hat, label='predicted', color='C1')\n",
        "plt.title('model vs data')\n",
        "plt.ylabel('fare_amount')\n",
        "plt.xlabel('dist')\n",
        "plt.legend()\n",
        "plt.show()\n",
        "\n",
        "plt.figure(figsize=(10,5))\n",
        "plt.scatter(y_train, y_residual, label='data', alpha=0.1, marker='.', color='C0')\n",
        "plt.axhline(0, color='k', ls='--')\n",
        "plt.title('residual')\n",
        "plt.ylabel('residual')\n",
        "plt.xlabel('fare_amount')\n",
        "plt.show()"
      ],
      "metadata": {
        "id": "WNlLK8bheTbr",
        "outputId": "6f9060bf-684c-49c2-dbdd-c9673c5cb698",
        "colab": {
          "base_uri": "https://localhost:8080/",
          "height": 684
        }
      },
      "id": "WNlLK8bheTbr",
      "execution_count": 73,
      "outputs": [
        {
          "output_type": "display_data",
          "data": {
            "text/plain": [
              "<Figure size 720x360 with 1 Axes>"
            ],
            "image/png": "[encoded data removed]"
          },
          "metadata": {
            "needs_background": "light"
          }
        },
        {
          "output_type": "display_data",
          "data": {
            "text/plain": [
              "<Figure size 720x360 with 1 Axes>"
            ],
            "image/png": "[encoded data removed]"
          },
          "metadata": {
            "needs_background": "light"
          }
        }
      ]
    },
    {
      "cell_type": "markdown",
      "source": [
        "# Evaluate some models"
      ],
      "metadata": {
        "id": "o0nnzlCsBUEd"
      },
      "id": "o0nnzlCsBUEd"
    },
    {
      "cell_type": "code",
      "source": [
        "# Logistic Regression\n",
        "\n",
        "from sklearn.model_selection import cross_val_score\n",
        "from sklearn.linear_model import LinearRegression\n",
        "\n",
        "model = LinearRegression()\n",
        "scores = -cross_val_score(model,\n",
        "                          X_train,\n",
        "                          y_train,\n",
        "                          cv=5,\n",
        "                          scoring='neg_root_mean_squared_error')\n",
        "\n",
        "print('5-fold cross-validation scores:', scores)\n",
        "print('Mean cross-validation score:', np.mean(scores))"
      ],
      "metadata": {
        "id": "3VA7A9M3zJEH",
        "outputId": "2c19276b-f766-499d-cc21-a717b29a8ba7",
        "colab": {
          "base_uri": "https://localhost:8080/"
        }
      },
      "id": "3VA7A9M3zJEH",
      "execution_count": null,
      "outputs": [
        {
          "output_type": "stream",
          "name": "stdout",
          "text": [
            "5-fold cross-validation scores: [7.98677275 8.14558127 8.16869135 8.2101265  8.30146526]\n",
            "Mean cross-validation score: 8.16252742260408\n"
          ]
        }
      ]
    },
    {
      "cell_type": "code",
      "source": [
        "# Histogram-based Gradient Boosting Regression Tree\n",
        "# https://scikit-learn.org/stable/modules/generated/sklearn.ensemble.HistGradientBoostingRegressor.html#sklearn.ensemble.HistGradientBoostingRegressor\n",
        "\n",
        "from sklearn.ensemble import HistGradientBoostingRegressor\n",
        "\n",
        "model = HistGradientBoostingRegressor()\n",
        "scores = -cross_val_score(model,\n",
        "                          X_train,\n",
        "                          y_train,\n",
        "                          cv=5,\n",
        "                          scoring='neg_root_mean_squared_error')\n",
        "\n",
        "print('5-fold cross-validation scores:', scores)\n",
        "print('Mean cross-validation score:', np.mean(scores))"
      ],
      "metadata": {
        "id": "nAQuf_Hp1HPG",
        "outputId": "fc6eb276-3d56-46bf-e539-939b0b5f05ef",
        "colab": {
          "base_uri": "https://localhost:8080/"
        }
      },
      "id": "nAQuf_Hp1HPG",
      "execution_count": null,
      "outputs": [
        {
          "output_type": "stream",
          "name": "stdout",
          "text": [
            "5-fold cross-validation scores: [4.14631332 4.49560691 4.61356453 4.48967955 4.25663139]\n",
            "Mean cross-validation score: 4.400359138802013\n"
          ]
        }
      ]
    },
    {
      "cell_type": "markdown",
      "source": [
        "# Fit a final model"
      ],
      "metadata": {
        "id": "507odHREBoZi"
      },
      "id": "507odHREBoZi"
    },
    {
      "cell_type": "code",
      "source": [
        "# Final model\n",
        "\n",
        "model = HistGradientBoostingRegressor()\n",
        "model.fit(X_train, y_train)\n",
        "\n",
        "X_test = ((df[testset][cols_X] - sr_mean_X) / sr_std_X).values\n",
        "y_hat = model.predict(X_test)\n",
        "\n",
        "X_test.shape, y_hat.shape"
      ],
      "metadata": {
        "id": "wxkfOwOQvAmH",
        "outputId": "d8e413b9-af53-4133-f906-953a2cba8272",
        "colab": {
          "base_uri": "https://localhost:8080/"
        }
      },
      "id": "wxkfOwOQvAmH",
      "execution_count": null,
      "outputs": [
        {
          "output_type": "execute_result",
          "data": {
            "text/plain": [
              "((9914, 11), (9914,))"
            ]
          },
          "metadata": {},
          "execution_count": 47
        }
      ]
    },
    {
      "cell_type": "markdown",
      "source": [
        "# Make a submission CSV"
      ],
      "metadata": {
        "id": "diZ0SmbqB04h"
      },
      "id": "diZ0SmbqB04h"
    },
    {
      "cell_type": "code",
      "source": [
        "import pytz\n",
        "from datetime import datetime, timezone\n",
        "\n",
        "# make submission csv\n",
        "df_submission = pd.DataFrame({\n",
        "    'key'        : df[testset]['key'],\n",
        "    'fare_amount': y_hat,\n",
        "})\n",
        "\n",
        "timestr = datetime.now(pytz.timezone('Canada/Eastern')).strftime(\"%y%m%d%H%M\")\n",
        "save_path = f'submission.{timestr}.csv'\n",
        "df_submission.to_csv(save_path, index=False)\n",
        "print('saved to', save_path)"
      ],
      "metadata": {
        "id": "VNyug_2p3RW1",
        "outputId": "5c328f2f-5a37-41a0-a904-a847e603b8fd",
        "colab": {
          "base_uri": "https://localhost:8080/"
        }
      },
      "id": "VNyug_2p3RW1",
      "execution_count": null,
      "outputs": [
        {
          "output_type": "stream",
          "name": "stdout",
          "text": [
            "saved to submission.2211271646.csv\n"
          ]
        }
      ]
    },
    {
      "cell_type": "markdown",
      "source": [
        "# Keep some records (for ourselves)"
      ],
      "metadata": {
        "id": "Fb_tAu_y8xRO"
      },
      "id": "Fb_tAu_y8xRO"
    },
    {
      "cell_type": "markdown",
      "source": [
        "- HBGR.submission.2211271646.csv\n",
        "    - **Histogram-based Gradient Boosting Regression Tree**\n",
        "    - Input features = `['pickup_longitude', 'pickup_latitude', 'dropoff_longitude', 'dropoff_latitude', 'passenger_count', 'year', 'month', 'day', 'weekday', 'hour', 'minute']`\n",
        "    - Score: **3.79107**\n",
        "- LR.submission.2212271557.csv\n",
        "    - **Simple linear regression**\n",
        "    - Input features = `['pickup_longitude', 'pickup_latitude', 'dropoff_longitude', 'dropoff_latitude', 'passenger_count', 'year', 'month', 'day', 'weekday', 'hour', 'minute']`\n",
        "    - Score: **7.93275**"
      ],
      "metadata": {
        "id": "XymN8cks5o_x"
      },
      "id": "XymN8cks5o_x"
    },
    {
      "cell_type": "markdown",
      "source": [
        "![image.png](data:image/png;base64,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)"
      ],
      "metadata": {
        "id": "XNwRBZ8yEDWD"
      },
      "id": "XNwRBZ8yEDWD"
    }
  ],
  "metadata": {
    "kernelspec": {
      "display_name": "Python 3 (ipykernel)",
      "language": "python",
      "name": "python3"
    },
    "language_info": {
      "codemirror_mode": {
        "name": "ipython",
        "version": 3
      },
      "file_extension": ".py",
      "mimetype": "text/x-python",
      "name": "python",
      "nbconvert_exporter": "python",
      "pygments_lexer": "ipython3",
      "version": "3.10.6"
    },
    "colab": {
      "provenance": [],
      "include_colab_link": true
    }
  },
  "nbformat": 4,
  "nbformat_minor": 5
}